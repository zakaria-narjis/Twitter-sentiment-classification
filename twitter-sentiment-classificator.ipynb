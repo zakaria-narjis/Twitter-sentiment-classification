{
 "cells": [
  {
   "cell_type": "markdown",
   "id": "4812402f",
   "metadata": {
    "papermill": {
     "duration": 0.006908,
     "end_time": "2022-10-25T16:03:58.175513",
     "exception": false,
     "start_time": "2022-10-25T16:03:58.168605",
     "status": "completed"
    },
    "tags": []
   },
   "source": [
    "# Importing libs"
   ]
  },
  {
   "cell_type": "code",
   "execution_count": 1,
   "id": "cdc310c5",
   "metadata": {
    "_cell_guid": "b1076dfc-b9ad-4769-8c92-a6c4dae69d19",
    "_uuid": "8f2839f25d086af736a60e9eeb907d3b93b6e0e5",
    "execution": {
     "iopub.execute_input": "2022-10-25T16:03:58.189957Z",
     "iopub.status.busy": "2022-10-25T16:03:58.189078Z",
     "iopub.status.idle": "2022-10-25T16:04:03.021430Z",
     "shell.execute_reply": "2022-10-25T16:04:03.020400Z"
    },
    "papermill": {
     "duration": 4.842558,
     "end_time": "2022-10-25T16:04:03.024042",
     "exception": false,
     "start_time": "2022-10-25T16:03:58.181484",
     "status": "completed"
    },
    "tags": []
   },
   "outputs": [],
   "source": [
    "import pandas as pd \n",
    "import numpy as np\n",
    "import tensorflow as tf\n",
    "from tensorflow import keras\n",
    "import matplotlib.pyplot as plt"
   ]
  },
  {
   "cell_type": "markdown",
   "id": "c21605c6",
   "metadata": {
    "papermill": {
     "duration": 0.005548,
     "end_time": "2022-10-25T16:04:03.035507",
     "exception": false,
     "start_time": "2022-10-25T16:04:03.029959",
     "status": "completed"
    },
    "tags": []
   },
   "source": [
    "# Loading data"
   ]
  },
  {
   "cell_type": "code",
   "execution_count": 2,
   "id": "b634ec15",
   "metadata": {
    "execution": {
     "iopub.execute_input": "2022-10-25T16:04:03.049885Z",
     "iopub.status.busy": "2022-10-25T16:04:03.048474Z",
     "iopub.status.idle": "2022-10-25T16:04:09.774473Z",
     "shell.execute_reply": "2022-10-25T16:04:09.773405Z"
    },
    "papermill": {
     "duration": 6.735951,
     "end_time": "2022-10-25T16:04:09.777309",
     "exception": false,
     "start_time": "2022-10-25T16:04:03.041358",
     "status": "completed"
    },
    "tags": []
   },
   "outputs": [],
   "source": [
    "data = pd.read_csv('../input/sentiment140/training.1600000.processed.noemoticon.csv',encoding='ISO-8859-1',names=['target','id','date','flag','user','text'],index_col=False)"
   ]
  },
  {
   "cell_type": "code",
   "execution_count": 3,
   "id": "b3200f06",
   "metadata": {
    "execution": {
     "iopub.execute_input": "2022-10-25T16:04:09.791058Z",
     "iopub.status.busy": "2022-10-25T16:04:09.790359Z",
     "iopub.status.idle": "2022-10-25T16:04:09.813225Z",
     "shell.execute_reply": "2022-10-25T16:04:09.812119Z"
    },
    "papermill": {
     "duration": 0.033453,
     "end_time": "2022-10-25T16:04:09.816929",
     "exception": false,
     "start_time": "2022-10-25T16:04:09.783476",
     "status": "completed"
    },
    "tags": []
   },
   "outputs": [
    {
     "data": {
      "text/html": [
       "<div>\n",
       "<style scoped>\n",
       "    .dataframe tbody tr th:only-of-type {\n",
       "        vertical-align: middle;\n",
       "    }\n",
       "\n",
       "    .dataframe tbody tr th {\n",
       "        vertical-align: top;\n",
       "    }\n",
       "\n",
       "    .dataframe thead th {\n",
       "        text-align: right;\n",
       "    }\n",
       "</style>\n",
       "<table border=\"1\" class=\"dataframe\">\n",
       "  <thead>\n",
       "    <tr style=\"text-align: right;\">\n",
       "      <th></th>\n",
       "      <th>target</th>\n",
       "      <th>id</th>\n",
       "      <th>date</th>\n",
       "      <th>flag</th>\n",
       "      <th>user</th>\n",
       "      <th>text</th>\n",
       "    </tr>\n",
       "  </thead>\n",
       "  <tbody>\n",
       "    <tr>\n",
       "      <th>0</th>\n",
       "      <td>0</td>\n",
       "      <td>1467810369</td>\n",
       "      <td>Mon Apr 06 22:19:45 PDT 2009</td>\n",
       "      <td>NO_QUERY</td>\n",
       "      <td>_TheSpecialOne_</td>\n",
       "      <td>@switchfoot http://twitpic.com/2y1zl - Awww, t...</td>\n",
       "    </tr>\n",
       "    <tr>\n",
       "      <th>1</th>\n",
       "      <td>0</td>\n",
       "      <td>1467810672</td>\n",
       "      <td>Mon Apr 06 22:19:49 PDT 2009</td>\n",
       "      <td>NO_QUERY</td>\n",
       "      <td>scotthamilton</td>\n",
       "      <td>is upset that he can't update his Facebook by ...</td>\n",
       "    </tr>\n",
       "    <tr>\n",
       "      <th>2</th>\n",
       "      <td>0</td>\n",
       "      <td>1467810917</td>\n",
       "      <td>Mon Apr 06 22:19:53 PDT 2009</td>\n",
       "      <td>NO_QUERY</td>\n",
       "      <td>mattycus</td>\n",
       "      <td>@Kenichan I dived many times for the ball. Man...</td>\n",
       "    </tr>\n",
       "    <tr>\n",
       "      <th>3</th>\n",
       "      <td>0</td>\n",
       "      <td>1467811184</td>\n",
       "      <td>Mon Apr 06 22:19:57 PDT 2009</td>\n",
       "      <td>NO_QUERY</td>\n",
       "      <td>ElleCTF</td>\n",
       "      <td>my whole body feels itchy and like its on fire</td>\n",
       "    </tr>\n",
       "    <tr>\n",
       "      <th>4</th>\n",
       "      <td>0</td>\n",
       "      <td>1467811193</td>\n",
       "      <td>Mon Apr 06 22:19:57 PDT 2009</td>\n",
       "      <td>NO_QUERY</td>\n",
       "      <td>Karoli</td>\n",
       "      <td>@nationwideclass no, it's not behaving at all....</td>\n",
       "    </tr>\n",
       "    <tr>\n",
       "      <th>...</th>\n",
       "      <td>...</td>\n",
       "      <td>...</td>\n",
       "      <td>...</td>\n",
       "      <td>...</td>\n",
       "      <td>...</td>\n",
       "      <td>...</td>\n",
       "    </tr>\n",
       "    <tr>\n",
       "      <th>1599995</th>\n",
       "      <td>4</td>\n",
       "      <td>2193601966</td>\n",
       "      <td>Tue Jun 16 08:40:49 PDT 2009</td>\n",
       "      <td>NO_QUERY</td>\n",
       "      <td>AmandaMarie1028</td>\n",
       "      <td>Just woke up. Having no school is the best fee...</td>\n",
       "    </tr>\n",
       "    <tr>\n",
       "      <th>1599996</th>\n",
       "      <td>4</td>\n",
       "      <td>2193601969</td>\n",
       "      <td>Tue Jun 16 08:40:49 PDT 2009</td>\n",
       "      <td>NO_QUERY</td>\n",
       "      <td>TheWDBoards</td>\n",
       "      <td>TheWDB.com - Very cool to hear old Walt interv...</td>\n",
       "    </tr>\n",
       "    <tr>\n",
       "      <th>1599997</th>\n",
       "      <td>4</td>\n",
       "      <td>2193601991</td>\n",
       "      <td>Tue Jun 16 08:40:49 PDT 2009</td>\n",
       "      <td>NO_QUERY</td>\n",
       "      <td>bpbabe</td>\n",
       "      <td>Are you ready for your MoJo Makeover? Ask me f...</td>\n",
       "    </tr>\n",
       "    <tr>\n",
       "      <th>1599998</th>\n",
       "      <td>4</td>\n",
       "      <td>2193602064</td>\n",
       "      <td>Tue Jun 16 08:40:49 PDT 2009</td>\n",
       "      <td>NO_QUERY</td>\n",
       "      <td>tinydiamondz</td>\n",
       "      <td>Happy 38th Birthday to my boo of alll time!!! ...</td>\n",
       "    </tr>\n",
       "    <tr>\n",
       "      <th>1599999</th>\n",
       "      <td>4</td>\n",
       "      <td>2193602129</td>\n",
       "      <td>Tue Jun 16 08:40:50 PDT 2009</td>\n",
       "      <td>NO_QUERY</td>\n",
       "      <td>RyanTrevMorris</td>\n",
       "      <td>happy #charitytuesday @theNSPCC @SparksCharity...</td>\n",
       "    </tr>\n",
       "  </tbody>\n",
       "</table>\n",
       "<p>1600000 rows × 6 columns</p>\n",
       "</div>"
      ],
      "text/plain": [
       "         target          id                          date      flag  \\\n",
       "0             0  1467810369  Mon Apr 06 22:19:45 PDT 2009  NO_QUERY   \n",
       "1             0  1467810672  Mon Apr 06 22:19:49 PDT 2009  NO_QUERY   \n",
       "2             0  1467810917  Mon Apr 06 22:19:53 PDT 2009  NO_QUERY   \n",
       "3             0  1467811184  Mon Apr 06 22:19:57 PDT 2009  NO_QUERY   \n",
       "4             0  1467811193  Mon Apr 06 22:19:57 PDT 2009  NO_QUERY   \n",
       "...         ...         ...                           ...       ...   \n",
       "1599995       4  2193601966  Tue Jun 16 08:40:49 PDT 2009  NO_QUERY   \n",
       "1599996       4  2193601969  Tue Jun 16 08:40:49 PDT 2009  NO_QUERY   \n",
       "1599997       4  2193601991  Tue Jun 16 08:40:49 PDT 2009  NO_QUERY   \n",
       "1599998       4  2193602064  Tue Jun 16 08:40:49 PDT 2009  NO_QUERY   \n",
       "1599999       4  2193602129  Tue Jun 16 08:40:50 PDT 2009  NO_QUERY   \n",
       "\n",
       "                    user                                               text  \n",
       "0        _TheSpecialOne_  @switchfoot http://twitpic.com/2y1zl - Awww, t...  \n",
       "1          scotthamilton  is upset that he can't update his Facebook by ...  \n",
       "2               mattycus  @Kenichan I dived many times for the ball. Man...  \n",
       "3                ElleCTF    my whole body feels itchy and like its on fire   \n",
       "4                 Karoli  @nationwideclass no, it's not behaving at all....  \n",
       "...                  ...                                                ...  \n",
       "1599995  AmandaMarie1028  Just woke up. Having no school is the best fee...  \n",
       "1599996      TheWDBoards  TheWDB.com - Very cool to hear old Walt interv...  \n",
       "1599997           bpbabe  Are you ready for your MoJo Makeover? Ask me f...  \n",
       "1599998     tinydiamondz  Happy 38th Birthday to my boo of alll time!!! ...  \n",
       "1599999   RyanTrevMorris  happy #charitytuesday @theNSPCC @SparksCharity...  \n",
       "\n",
       "[1600000 rows x 6 columns]"
      ]
     },
     "execution_count": 3,
     "metadata": {},
     "output_type": "execute_result"
    }
   ],
   "source": [
    "data"
   ]
  },
  {
   "cell_type": "code",
   "execution_count": 4,
   "id": "41ec6f4c",
   "metadata": {
    "execution": {
     "iopub.execute_input": "2022-10-25T16:04:09.832160Z",
     "iopub.status.busy": "2022-10-25T16:04:09.831569Z",
     "iopub.status.idle": "2022-10-25T16:04:10.084511Z",
     "shell.execute_reply": "2022-10-25T16:04:10.083334Z"
    },
    "papermill": {
     "duration": 0.263677,
     "end_time": "2022-10-25T16:04:10.086688",
     "exception": false,
     "start_time": "2022-10-25T16:04:09.823011",
     "status": "completed"
    },
    "tags": []
   },
   "outputs": [
    {
     "name": "stdout",
     "output_type": "stream",
     "text": [
      "<class 'pandas.core.frame.DataFrame'>\n",
      "RangeIndex: 1600000 entries, 0 to 1599999\n",
      "Data columns (total 6 columns):\n",
      " #   Column  Non-Null Count    Dtype \n",
      "---  ------  --------------    ----- \n",
      " 0   target  1600000 non-null  int64 \n",
      " 1   id      1600000 non-null  int64 \n",
      " 2   date    1600000 non-null  object\n",
      " 3   flag    1600000 non-null  object\n",
      " 4   user    1600000 non-null  object\n",
      " 5   text    1600000 non-null  object\n",
      "dtypes: int64(2), object(4)\n",
      "memory usage: 73.2+ MB\n"
     ]
    }
   ],
   "source": [
    "data.info()"
   ]
  },
  {
   "cell_type": "markdown",
   "id": "171dfa06",
   "metadata": {
    "papermill": {
     "duration": 0.005955,
     "end_time": "2022-10-25T16:04:10.098969",
     "exception": false,
     "start_time": "2022-10-25T16:04:10.093014",
     "status": "completed"
    },
    "tags": []
   },
   "source": [
    "# Preprocessing data"
   ]
  },
  {
   "cell_type": "code",
   "execution_count": 5,
   "id": "1f6264e5",
   "metadata": {
    "execution": {
     "iopub.execute_input": "2022-10-25T16:04:10.114443Z",
     "iopub.status.busy": "2022-10-25T16:04:10.112432Z",
     "iopub.status.idle": "2022-10-25T16:04:10.119638Z",
     "shell.execute_reply": "2022-10-25T16:04:10.118605Z"
    },
    "papermill": {
     "duration": 0.016788,
     "end_time": "2022-10-25T16:04:10.121779",
     "exception": false,
     "start_time": "2022-10-25T16:04:10.104991",
     "status": "completed"
    },
    "tags": []
   },
   "outputs": [],
   "source": [
    "import re\n",
    "def preprocess(txt):\n",
    "    regex_string = r'(?i)\\b((?:[a-z][\\w-]+:(?:/{1,3}|[a-z0-9%])|www\\d{0,3}[.]|[a-z0-9.\\-]+[.][a-z]{2,4}/)(?:[^\\s()<>]+|\\(([^\\s()<>]+|(\\([^\\s()<>]+\\)))*\\))+(?:\\(([^\\s()<>]+|(\\([^\\s()<>]+\\)))*\\)|[^\\s`!()\\[\\]{};:\\'\".,<>?«»“”‘’]))'\n",
    "    output=txt\n",
    "    output=re.sub(regex_string,'',output)\n",
    "    output=re.sub('(@[^\\s]*)\\s|\\s(@[^\\s]*)','',output)\n",
    "    output=re.sub('(#[^\\s]*)\\s|\\s(#[^\\s]*)','',output)\n",
    "    output=re.sub('[\\s]{2}','',output)\n",
    "    return output"
   ]
  },
  {
   "cell_type": "code",
   "execution_count": 6,
   "id": "b3cd1ac5",
   "metadata": {
    "execution": {
     "iopub.execute_input": "2022-10-25T16:04:10.135463Z",
     "iopub.status.busy": "2022-10-25T16:04:10.135124Z",
     "iopub.status.idle": "2022-10-25T16:04:39.015279Z",
     "shell.execute_reply": "2022-10-25T16:04:39.014276Z"
    },
    "papermill": {
     "duration": 28.889869,
     "end_time": "2022-10-25T16:04:39.017805",
     "exception": false,
     "start_time": "2022-10-25T16:04:10.127936",
     "status": "completed"
    },
    "tags": []
   },
   "outputs": [
    {
     "name": "stderr",
     "output_type": "stream",
     "text": [
      "2022-10-25 16:04:36.061746: I tensorflow/stream_executor/cuda/cuda_gpu_executor.cc:937] successful NUMA node read from SysFS had negative value (-1), but there must be at least one NUMA node, so returning NUMA node zero\n",
      "2022-10-25 16:04:36.154264: I tensorflow/stream_executor/cuda/cuda_gpu_executor.cc:937] successful NUMA node read from SysFS had negative value (-1), but there must be at least one NUMA node, so returning NUMA node zero\n",
      "2022-10-25 16:04:36.155300: I tensorflow/stream_executor/cuda/cuda_gpu_executor.cc:937] successful NUMA node read from SysFS had negative value (-1), but there must be at least one NUMA node, so returning NUMA node zero\n",
      "2022-10-25 16:04:36.158709: I tensorflow/core/platform/cpu_feature_guard.cc:142] This TensorFlow binary is optimized with oneAPI Deep Neural Network Library (oneDNN) to use the following CPU instructions in performance-critical operations:  AVX2 AVX512F FMA\n",
      "To enable them in other operations, rebuild TensorFlow with the appropriate compiler flags.\n",
      "2022-10-25 16:04:36.159101: I tensorflow/stream_executor/cuda/cuda_gpu_executor.cc:937] successful NUMA node read from SysFS had negative value (-1), but there must be at least one NUMA node, so returning NUMA node zero\n",
      "2022-10-25 16:04:36.159980: I tensorflow/stream_executor/cuda/cuda_gpu_executor.cc:937] successful NUMA node read from SysFS had negative value (-1), but there must be at least one NUMA node, so returning NUMA node zero\n",
      "2022-10-25 16:04:36.160707: I tensorflow/stream_executor/cuda/cuda_gpu_executor.cc:937] successful NUMA node read from SysFS had negative value (-1), but there must be at least one NUMA node, so returning NUMA node zero\n",
      "2022-10-25 16:04:38.371421: I tensorflow/stream_executor/cuda/cuda_gpu_executor.cc:937] successful NUMA node read from SysFS had negative value (-1), but there must be at least one NUMA node, so returning NUMA node zero\n",
      "2022-10-25 16:04:38.372243: I tensorflow/stream_executor/cuda/cuda_gpu_executor.cc:937] successful NUMA node read from SysFS had negative value (-1), but there must be at least one NUMA node, so returning NUMA node zero\n",
      "2022-10-25 16:04:38.372901: I tensorflow/stream_executor/cuda/cuda_gpu_executor.cc:937] successful NUMA node read from SysFS had negative value (-1), but there must be at least one NUMA node, so returning NUMA node zero\n",
      "2022-10-25 16:04:38.373491: I tensorflow/core/common_runtime/gpu/gpu_device.cc:1510] Created device /job:localhost/replica:0/task:0/device:GPU:0 with 15401 MB memory:  -> device: 0, name: Tesla P100-PCIE-16GB, pci bus id: 0000:00:04.0, compute capability: 6.0\n"
     ]
    }
   ],
   "source": [
    "inputs=tf.constant(data.text.map(preprocess).to_numpy())\n",
    "outputs=tf.constant(data.target.replace(4,1).to_numpy())\n",
    "dataset=tf.data.Dataset.from_tensor_slices((inputs,outputs))"
   ]
  },
  {
   "cell_type": "code",
   "execution_count": 7,
   "id": "688b6789",
   "metadata": {
    "execution": {
     "iopub.execute_input": "2022-10-25T16:04:39.031943Z",
     "iopub.status.busy": "2022-10-25T16:04:39.031576Z",
     "iopub.status.idle": "2022-10-25T16:04:39.036186Z",
     "shell.execute_reply": "2022-10-25T16:04:39.035217Z"
    },
    "papermill": {
     "duration": 0.013895,
     "end_time": "2022-10-25T16:04:39.038156",
     "exception": false,
     "start_time": "2022-10-25T16:04:39.024261",
     "status": "completed"
    },
    "tags": []
   },
   "outputs": [],
   "source": [
    "tf.random.set_seed(42)"
   ]
  },
  {
   "cell_type": "code",
   "execution_count": 8,
   "id": "34595ede",
   "metadata": {
    "execution": {
     "iopub.execute_input": "2022-10-25T16:04:39.051619Z",
     "iopub.status.busy": "2022-10-25T16:04:39.051308Z",
     "iopub.status.idle": "2022-10-25T16:04:39.058059Z",
     "shell.execute_reply": "2022-10-25T16:04:39.057028Z"
    },
    "papermill": {
     "duration": 0.015832,
     "end_time": "2022-10-25T16:04:39.060085",
     "exception": false,
     "start_time": "2022-10-25T16:04:39.044253",
     "status": "completed"
    },
    "tags": []
   },
   "outputs": [],
   "source": [
    "def dataset_split(dataset_,train_split=0.8,valid_split=0.1,test_split=0.1,shuffle=True,shuffle_size=1600000):\n",
    "    dataset_size=int(dataset_.cardinality().numpy())\n",
    "    assert (train_split + valid_split + test_split) == 1\n",
    "    if shuffle:\n",
    "        dataset_=dataset_.shuffle(shuffle_size)\n",
    "    train_size=int(dataset_size * train_split)  \n",
    "    val_size = int(dataset_size * valid_split)\n",
    "    train_ds = dataset_.take(train_size)    \n",
    "    val_ds = dataset_.skip(train_size).take(val_size)\n",
    "    test_ds = dataset_.skip(train_size).skip(val_size)\n",
    "    return train_ds, val_ds, test_ds "
   ]
  },
  {
   "cell_type": "code",
   "execution_count": 9,
   "id": "2b81c3ba",
   "metadata": {
    "execution": {
     "iopub.execute_input": "2022-10-25T16:04:39.074312Z",
     "iopub.status.busy": "2022-10-25T16:04:39.073665Z",
     "iopub.status.idle": "2022-10-25T16:04:39.097654Z",
     "shell.execute_reply": "2022-10-25T16:04:39.096698Z"
    },
    "papermill": {
     "duration": 0.033691,
     "end_time": "2022-10-25T16:04:39.100002",
     "exception": false,
     "start_time": "2022-10-25T16:04:39.066311",
     "status": "completed"
    },
    "tags": []
   },
   "outputs": [],
   "source": [
    "train_ds,val_ds,test_ds=dataset_split(dataset)"
   ]
  },
  {
   "cell_type": "code",
   "execution_count": 10,
   "id": "b5f7c38d",
   "metadata": {
    "execution": {
     "iopub.execute_input": "2022-10-25T16:04:39.114096Z",
     "iopub.status.busy": "2022-10-25T16:04:39.113457Z",
     "iopub.status.idle": "2022-10-25T16:04:39.126246Z",
     "shell.execute_reply": "2022-10-25T16:04:39.125324Z"
    },
    "papermill": {
     "duration": 0.022102,
     "end_time": "2022-10-25T16:04:39.128458",
     "exception": false,
     "start_time": "2022-10-25T16:04:39.106356",
     "status": "completed"
    },
    "tags": []
   },
   "outputs": [],
   "source": [
    "train_ds=train_ds.shuffle(1600000).batch(32).prefetch(1)\n",
    "val_ds=val_ds.shuffle(1600000).batch(32).prefetch(1)\n",
    "test_ds=test_ds.batch(32).prefetch(1)"
   ]
  },
  {
   "cell_type": "markdown",
   "id": "ef55abfb",
   "metadata": {
    "papermill": {
     "duration": 0.005933,
     "end_time": "2022-10-25T16:04:39.140744",
     "exception": false,
     "start_time": "2022-10-25T16:04:39.134811",
     "status": "completed"
    },
    "tags": []
   },
   "source": [
    "# Training the model"
   ]
  },
  {
   "cell_type": "markdown",
   "id": "4d8060dc",
   "metadata": {
    "papermill": {
     "duration": 0.00589,
     "end_time": "2022-10-25T16:04:39.152997",
     "exception": false,
     "start_time": "2022-10-25T16:04:39.147107",
     "status": "completed"
    },
    "tags": []
   },
   "source": [
    "## Building the model"
   ]
  },
  {
   "cell_type": "code",
   "execution_count": 11,
   "id": "b8e9368a",
   "metadata": {
    "execution": {
     "iopub.execute_input": "2022-10-25T16:04:39.167166Z",
     "iopub.status.busy": "2022-10-25T16:04:39.166262Z",
     "iopub.status.idle": "2022-10-25T16:04:44.319158Z",
     "shell.execute_reply": "2022-10-25T16:04:44.318124Z"
    },
    "papermill": {
     "duration": 5.162711,
     "end_time": "2022-10-25T16:04:44.321804",
     "exception": false,
     "start_time": "2022-10-25T16:04:39.159093",
     "status": "completed"
    },
    "tags": []
   },
   "outputs": [
    {
     "name": "stderr",
     "output_type": "stream",
     "text": [
      "2022-10-25 16:04:42.809483: I tensorflow/compiler/mlir/mlir_graph_optimization_pass.cc:185] None of the MLIR Optimization Passes are enabled (registered 2)\n"
     ]
    }
   ],
   "source": [
    "import tensorflow_hub as hub\n",
    "model=keras.Sequential()\n",
    "embedding_layer=hub.KerasLayer(\"https://tfhub.dev/google/nnlm-en-dim50/2\",input_shape=[],dtype=tf.string,trainable=False)\n",
    "model.add(embedding_layer)\n",
    "model.add(keras.layers.Dense(16,activation='relu'))\n",
    "model.add(keras.layers.Dense(16,activation='relu'))\n",
    "model.add(keras.layers.Dense(1,activation='sigmoid'))"
   ]
  },
  {
   "cell_type": "code",
   "execution_count": 12,
   "id": "4930675e",
   "metadata": {
    "execution": {
     "iopub.execute_input": "2022-10-25T16:04:44.337128Z",
     "iopub.status.busy": "2022-10-25T16:04:44.336798Z",
     "iopub.status.idle": "2022-10-25T16:04:44.342774Z",
     "shell.execute_reply": "2022-10-25T16:04:44.341683Z"
    },
    "papermill": {
     "duration": 0.016292,
     "end_time": "2022-10-25T16:04:44.344998",
     "exception": false,
     "start_time": "2022-10-25T16:04:44.328706",
     "status": "completed"
    },
    "tags": []
   },
   "outputs": [],
   "source": [
    "def plot_learning_curves(hist):\n",
    "    pd.DataFrame(hist.history).plot(figsize=(8,5))\n",
    "    plt.grid(True)\n",
    "    plt.gca().set_ylim(0,1)\n",
    "    plt.show()"
   ]
  },
  {
   "cell_type": "code",
   "execution_count": 13,
   "id": "733ee3b4",
   "metadata": {
    "execution": {
     "iopub.execute_input": "2022-10-25T16:04:44.359043Z",
     "iopub.status.busy": "2022-10-25T16:04:44.358710Z",
     "iopub.status.idle": "2022-10-25T16:04:44.372160Z",
     "shell.execute_reply": "2022-10-25T16:04:44.371227Z"
    },
    "papermill": {
     "duration": 0.022978,
     "end_time": "2022-10-25T16:04:44.374402",
     "exception": false,
     "start_time": "2022-10-25T16:04:44.351424",
     "status": "completed"
    },
    "tags": []
   },
   "outputs": [],
   "source": [
    "early_stopping=keras.callbacks.EarlyStopping(patience=5,restore_best_weights=True)\n",
    "checkpoint=keras.callbacks.ModelCheckpoint(\"model.h5\",save_best_only=True)\n",
    "adam_optimizer=keras.optimizers.Adam(learning_rate=0.03)\n",
    "model.compile(loss='binary_crossentropy',optimizer=adam_optimizer,metrics=['accuracy'])"
   ]
  },
  {
   "cell_type": "code",
   "execution_count": 14,
   "id": "7de252b6",
   "metadata": {
    "execution": {
     "iopub.execute_input": "2022-10-25T16:04:44.388325Z",
     "iopub.status.busy": "2022-10-25T16:04:44.388005Z",
     "iopub.status.idle": "2022-10-25T16:04:44.393782Z",
     "shell.execute_reply": "2022-10-25T16:04:44.392704Z"
    },
    "papermill": {
     "duration": 0.01659,
     "end_time": "2022-10-25T16:04:44.397276",
     "exception": false,
     "start_time": "2022-10-25T16:04:44.380686",
     "status": "completed"
    },
    "tags": []
   },
   "outputs": [
    {
     "name": "stdout",
     "output_type": "stream",
     "text": [
      "Model: \"sequential\"\n",
      "_________________________________________________________________\n",
      "Layer (type)                 Output Shape              Param #   \n",
      "=================================================================\n",
      "keras_layer (KerasLayer)     (None, 50)                48190600  \n",
      "_________________________________________________________________\n",
      "dense (Dense)                (None, 16)                816       \n",
      "_________________________________________________________________\n",
      "dense_1 (Dense)              (None, 16)                272       \n",
      "_________________________________________________________________\n",
      "dense_2 (Dense)              (None, 1)                 17        \n",
      "=================================================================\n",
      "Total params: 48,191,705\n",
      "Trainable params: 1,105\n",
      "Non-trainable params: 48,190,600\n",
      "_________________________________________________________________\n"
     ]
    }
   ],
   "source": [
    "model.summary()"
   ]
  },
  {
   "cell_type": "markdown",
   "id": "517763d9",
   "metadata": {
    "papermill": {
     "duration": 0.006013,
     "end_time": "2022-10-25T16:04:44.409749",
     "exception": false,
     "start_time": "2022-10-25T16:04:44.403736",
     "status": "completed"
    },
    "tags": []
   },
   "source": [
    "## Training the model on few epochs"
   ]
  },
  {
   "cell_type": "code",
   "execution_count": 15,
   "id": "e6e696d5",
   "metadata": {
    "execution": {
     "iopub.execute_input": "2022-10-25T16:04:44.424322Z",
     "iopub.status.busy": "2022-10-25T16:04:44.423524Z",
     "iopub.status.idle": "2022-10-25T16:32:05.313771Z",
     "shell.execute_reply": "2022-10-25T16:32:05.312485Z"
    },
    "papermill": {
     "duration": 1640.899997,
     "end_time": "2022-10-25T16:32:05.316022",
     "exception": false,
     "start_time": "2022-10-25T16:04:44.416025",
     "status": "completed"
    },
    "tags": []
   },
   "outputs": [
    {
     "name": "stdout",
     "output_type": "stream",
     "text": [
      "Epoch 1/10\n",
      "40000/40000 [==============================] - 146s 4ms/step - loss: 0.6229 - accuracy: 0.6504 - val_loss: 0.6210 - val_accuracy: 0.6484\n",
      "Epoch 2/10\n",
      "40000/40000 [==============================] - 145s 4ms/step - loss: 0.6203 - accuracy: 0.6530 - val_loss: 0.6217 - val_accuracy: 0.6410\n",
      "Epoch 3/10\n",
      "40000/40000 [==============================] - 147s 4ms/step - loss: 0.6203 - accuracy: 0.6532 - val_loss: 0.6188 - val_accuracy: 0.6534\n",
      "Epoch 4/10\n",
      "40000/40000 [==============================] - 148s 4ms/step - loss: 0.6197 - accuracy: 0.6530 - val_loss: 0.6270 - val_accuracy: 0.6585\n",
      "Epoch 5/10\n",
      "40000/40000 [==============================] - 148s 4ms/step - loss: 0.6195 - accuracy: 0.6542 - val_loss: 0.6184 - val_accuracy: 0.6587\n",
      "Epoch 6/10\n",
      "40000/40000 [==============================] - 149s 4ms/step - loss: 0.6196 - accuracy: 0.6531 - val_loss: 0.6173 - val_accuracy: 0.6542\n",
      "Epoch 7/10\n",
      "40000/40000 [==============================] - 148s 4ms/step - loss: 0.6196 - accuracy: 0.6536 - val_loss: 0.6196 - val_accuracy: 0.6529\n",
      "Epoch 8/10\n",
      "40000/40000 [==============================] - 146s 4ms/step - loss: 0.6191 - accuracy: 0.6541 - val_loss: 0.6169 - val_accuracy: 0.6592\n",
      "Epoch 9/10\n",
      "40000/40000 [==============================] - 150s 4ms/step - loss: 0.6193 - accuracy: 0.6549 - val_loss: 0.6218 - val_accuracy: 0.6555\n",
      "Epoch 10/10\n",
      "40000/40000 [==============================] - 152s 4ms/step - loss: 0.6196 - accuracy: 0.6543 - val_loss: 0.6206 - val_accuracy: 0.6549\n"
     ]
    }
   ],
   "source": [
    "history=model.fit(train_ds,validation_data=val_ds,callbacks=[early_stopping,checkpoint],epochs=10)"
   ]
  },
  {
   "cell_type": "code",
   "execution_count": 16,
   "id": "daec18a4",
   "metadata": {
    "execution": {
     "iopub.execute_input": "2022-10-25T16:32:08.118829Z",
     "iopub.status.busy": "2022-10-25T16:32:08.117844Z",
     "iopub.status.idle": "2022-10-25T16:32:08.534051Z",
     "shell.execute_reply": "2022-10-25T16:32:08.532924Z"
    },
    "papermill": {
     "duration": 1.822867,
     "end_time": "2022-10-25T16:32:08.536307",
     "exception": false,
     "start_time": "2022-10-25T16:32:06.713440",
     "status": "completed"
    },
    "tags": []
   },
   "outputs": [
    {
     "data": {
      "image/png": "[encoded data removed]",
      "text/plain": [
       "<Figure size 576x360 with 1 Axes>"
      ]
     },
     "metadata": {
      "needs_background": "light"
     },
     "output_type": "display_data"
    }
   ],
   "source": [
    "plot_learning_curves(history)"
   ]
  },
  {
   "cell_type": "markdown",
   "id": "f7d80812",
   "metadata": {
    "papermill": {
     "duration": 1.388123,
     "end_time": "2022-10-25T16:32:11.314099",
     "exception": false,
     "start_time": "2022-10-25T16:32:09.925976",
     "status": "completed"
    },
    "tags": []
   },
   "source": [
    "## Training the model on full epochs"
   ]
  },
  {
   "cell_type": "code",
   "execution_count": 17,
   "id": "a6161a1b",
   "metadata": {
    "execution": {
     "iopub.execute_input": "2022-10-25T16:32:14.094542Z",
     "iopub.status.busy": "2022-10-25T16:32:14.094193Z",
     "iopub.status.idle": "2022-10-25T16:32:14.105484Z",
     "shell.execute_reply": "2022-10-25T16:32:14.104573Z"
    },
    "papermill": {
     "duration": 1.340073,
     "end_time": "2022-10-25T16:32:14.107687",
     "exception": false,
     "start_time": "2022-10-25T16:32:12.767614",
     "status": "completed"
    },
    "tags": []
   },
   "outputs": [],
   "source": [
    "for layer in model.layers:\n",
    "    layer.trainable=True\n",
    "adam_optimizer=keras.optimizers.Adam(learning_rate=0.002)\n",
    "model.compile(loss='binary_crossentropy',optimizer=adam_optimizer,metrics=['accuracy'])"
   ]
  },
  {
   "cell_type": "code",
   "execution_count": 18,
   "id": "566bb36f",
   "metadata": {
    "execution": {
     "iopub.execute_input": "2022-10-25T16:32:17.115870Z",
     "iopub.status.busy": "2022-10-25T16:32:17.115484Z",
     "iopub.status.idle": "2022-10-25T16:32:17.121931Z",
     "shell.execute_reply": "2022-10-25T16:32:17.120677Z"
    },
    "papermill": {
     "duration": 1.46496,
     "end_time": "2022-10-25T16:32:17.126308",
     "exception": false,
     "start_time": "2022-10-25T16:32:15.661348",
     "status": "completed"
    },
    "tags": []
   },
   "outputs": [
    {
     "name": "stdout",
     "output_type": "stream",
     "text": [
      "Model: \"sequential\"\n",
      "_________________________________________________________________\n",
      "Layer (type)                 Output Shape              Param #   \n",
      "=================================================================\n",
      "keras_layer (KerasLayer)     (None, 50)                48190600  \n",
      "_________________________________________________________________\n",
      "dense (Dense)                (None, 16)                816       \n",
      "_________________________________________________________________\n",
      "dense_1 (Dense)              (None, 16)                272       \n",
      "_________________________________________________________________\n",
      "dense_2 (Dense)              (None, 1)                 17        \n",
      "=================================================================\n",
      "Total params: 48,191,705\n",
      "Trainable params: 48,191,705\n",
      "Non-trainable params: 0\n",
      "_________________________________________________________________\n"
     ]
    }
   ],
   "source": [
    "model.summary()"
   ]
  },
  {
   "cell_type": "markdown",
   "id": "81a27d23",
   "metadata": {
    "papermill": {
     "duration": 1.358767,
     "end_time": "2022-10-25T16:32:19.797865",
     "exception": false,
     "start_time": "2022-10-25T16:32:18.439098",
     "status": "completed"
    },
    "tags": []
   },
   "source": [
    "**The training take a large amount of time, thus we will train it on 2 epochs**"
   ]
  },
  {
   "cell_type": "code",
   "execution_count": 19,
   "id": "892fb1d6",
   "metadata": {
    "execution": {
     "iopub.execute_input": "2022-10-25T16:32:22.539499Z",
     "iopub.status.busy": "2022-10-25T16:32:22.539065Z",
     "iopub.status.idle": "2022-10-25T16:55:07.096321Z",
     "shell.execute_reply": "2022-10-25T16:55:07.095285Z"
    },
    "papermill": {
     "duration": 1365.856428,
     "end_time": "2022-10-25T16:55:07.099121",
     "exception": false,
     "start_time": "2022-10-25T16:32:21.242693",
     "status": "completed"
    },
    "tags": []
   },
   "outputs": [
    {
     "name": "stdout",
     "output_type": "stream",
     "text": [
      "Epoch 1/2\n",
      "40000/40000 [==============================] - 665s 17ms/step - loss: 0.4788 - accuracy: 0.7695 - val_loss: 0.4371 - val_accuracy: 0.7967\n",
      "Epoch 2/2\n",
      "40000/40000 [==============================] - 665s 17ms/step - loss: 0.4432 - accuracy: 0.7922 - val_loss: 0.4213 - val_accuracy: 0.8064\n"
     ]
    }
   ],
   "source": [
    "history=model.fit(train_ds,validation_data=val_ds,callbacks=[early_stopping,checkpoint],epochs=2)"
   ]
  },
  {
   "cell_type": "code",
   "execution_count": 20,
   "id": "0f50dce6",
   "metadata": {
    "execution": {
     "iopub.execute_input": "2022-10-25T16:55:12.609532Z",
     "iopub.status.busy": "2022-10-25T16:55:12.609166Z",
     "iopub.status.idle": "2022-10-25T16:55:12.828702Z",
     "shell.execute_reply": "2022-10-25T16:55:12.827592Z"
    },
    "papermill": {
     "duration": 3.025437,
     "end_time": "2022-10-25T16:55:12.830943",
     "exception": false,
     "start_time": "2022-10-25T16:55:09.805506",
     "status": "completed"
    },
    "tags": []
   },
   "outputs": [
    {
     "data": {
      "image/png": "[encoded data removed]",
      "text/plain": [
       "<Figure size 576x360 with 1 Axes>"
      ]
     },
     "metadata": {
      "needs_background": "light"
     },
     "output_type": "display_data"
    }
   ],
   "source": [
    "plot_learning_curves(history)"
   ]
  },
  {
   "cell_type": "code",
   "execution_count": 21,
   "id": "676bf1e3",
   "metadata": {
    "execution": {
     "iopub.execute_input": "2022-10-25T16:55:17.909190Z",
     "iopub.status.busy": "2022-10-25T16:55:17.908844Z",
     "iopub.status.idle": "2022-10-25T16:55:39.180066Z",
     "shell.execute_reply": "2022-10-25T16:55:39.179124Z"
    },
    "papermill": {
     "duration": 23.797929,
     "end_time": "2022-10-25T16:55:39.182134",
     "exception": false,
     "start_time": "2022-10-25T16:55:15.384205",
     "status": "completed"
    },
    "tags": []
   },
   "outputs": [
    {
     "name": "stdout",
     "output_type": "stream",
     "text": [
      "5000/5000 [==============================] - 21s 3ms/step - loss: 0.4207 - accuracy: 0.8071\n"
     ]
    },
    {
     "data": {
      "text/plain": [
       "[0.42071738839149475, 0.8070687651634216]"
      ]
     },
     "execution_count": 21,
     "metadata": {},
     "output_type": "execute_result"
    }
   ],
   "source": [
    "model.evaluate(test_ds)"
   ]
  },
  {
   "cell_type": "code",
   "execution_count": 22,
   "id": "e6f3d3ec",
   "metadata": {
    "execution": {
     "iopub.execute_input": "2022-10-25T16:55:44.628470Z",
     "iopub.status.busy": "2022-10-25T16:55:44.627882Z",
     "iopub.status.idle": "2022-10-25T16:55:44.659808Z",
     "shell.execute_reply": "2022-10-25T16:55:44.658690Z"
    },
    "papermill": {
     "duration": 2.884667,
     "end_time": "2022-10-25T16:55:44.662022",
     "exception": false,
     "start_time": "2022-10-25T16:55:41.777355",
     "status": "completed"
    },
    "tags": []
   },
   "outputs": [
    {
     "data": {
      "text/plain": [
       "<tf.Tensor: shape=(1, 1), dtype=float32, numpy=array([[0.56497765]], dtype=float32)>"
      ]
     },
     "execution_count": 22,
     "metadata": {},
     "output_type": "execute_result"
    }
   ],
   "source": [
    "model(tf.constant(['']))"
   ]
  }
 ],
 "metadata": {
  "kernelspec": {
   "display_name": "Python 3",
   "language": "python",
   "name": "python3"
  },
  "language_info": {
   "codemirror_mode": {
    "name": "ipython",
    "version": 3
   },
   "file_extension": ".py",
   "mimetype": "text/x-python",
   "name": "python",
   "nbconvert_exporter": "python",
   "pygments_lexer": "ipython3",
   "version": "3.7.12"
  },
  "papermill": {
   "default_parameters": {},
   "duration": 3120.71114,
   "end_time": "2022-10-25T16:55:50.917308",
   "environment_variables": {},
   "exception": null,
   "input_path": "__notebook__.ipynb",
   "output_path": "__notebook__.ipynb",
   "parameters": {},
   "start_time": "2022-10-25T16:03:50.206168",
   "version": "2.3.4"
  }
 },
 "nbformat": 4,
 "nbformat_minor": 5
}
